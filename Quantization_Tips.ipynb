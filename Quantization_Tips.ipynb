{
  "nbformat": 4,
  "nbformat_minor": 0,
  "metadata": {
    "colab": {
      "name": "Quantization_Tips.ipynb",
      "provenance": [],
      "authorship_tag": "ABX9TyPJ9efwWHMHrKv4+X5dMINc",
      "include_colab_link": true
    },
    "kernelspec": {
      "name": "python3",
      "display_name": "Python 3"
    }
  },
  "cells": [
    {
      "cell_type": "markdown",
      "metadata": {
        "id": "view-in-github",
        "colab_type": "text"
      },
      "source": [
        "<a href=\"https://colab.research.google.com/github/jvishnuvardhan/TF_Lite/blob/master/Quantization_Tips.ipynb\" target=\"_parent\"><img src=\"https://colab.research.google.com/assets/colab-badge.svg\" alt=\"Open In Colab\"/></a>"
      ]
    },
    {
      "cell_type": "markdown",
      "metadata": {
        "id": "wahoBPC5-Nk6",
        "colab_type": "text"
      },
      "source": [
        ""
      ]
    },
    {
      "cell_type": "markdown",
      "metadata": {
        "id": "hShWzwCS-baR",
        "colab_type": "text"
      },
      "source": [
        "**General Tips**\n",
        "\n",
        "\n",
        "*   To make the whole model aware of quantization, apply tfmot.quantization.keras.quantize_model to the model.\n",
        "*   In order to deploy on EdgeTPU kind of small hardware, use fully quantized integer models (QAT or post training quantization)\n",
        "*   \n",
        "*   \n",
        "\n",
        "\n",
        "\n",
        "**Tips for better model accuracy:**\n",
        "\n",
        "*   Try \"Quantize some layers\" to skip quantizing the layers that reduce accuracy the most.\n",
        "*   It's generally better to finetune with quantization aware training as opposed to training from scratch.\n",
        "*   List item\n",
        "*   List item\n",
        "\n",
        "\n",
        "**Tips for better model accuracy:**\n",
        "\n",
        "*   It's generally better to finetune with quantization aware training as opposed to training from scratch.\n",
        "*   Try quantizing the later layers instead of the first layers.\n",
        "*   Avoid quantizing critical layers (e.g. attention mechanism)\n",
        "\n",
        "\n",
        "*   List item\n",
        "\n",
        "\n"
      ]
    },
    {
      "cell_type": "code",
      "metadata": {
        "id": "7bkev7S26ZW6",
        "colab_type": "code",
        "colab": {}
      },
      "source": [
        ""
      ],
      "execution_count": 0,
      "outputs": []
    }
  ]
}